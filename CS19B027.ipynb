{
  "nbformat": 4,
  "nbformat_minor": 0,
  "metadata": {
    "colab": {
      "provenance": []
    },
    "kernelspec": {
      "name": "python3",
      "display_name": "Python 3"
    },
    "language_info": {
      "name": "python"
    }
  },
  "cells": [
    {
      "cell_type": "markdown",
      "source": [
        "# Import libraries"
      ],
      "metadata": {
        "id": "wTEFPOn9LhX2"
      }
    },
    {
      "cell_type": "code",
      "execution_count": null,
      "metadata": {
        "id": "aFp6naleCXf4"
      },
      "outputs": [],
      "source": [
        "import torch\n",
        "import torchvision\n",
        "from torchvision.datasets import FashionMNIST\n",
        "from torchvision.transforms import ToTensor\n",
        "import numpy as np"
      ]
    },
    {
      "cell_type": "markdown",
      "source": [
        "# Define new labels"
      ],
      "metadata": {
        "id": "HCblZ32TLE6N"
      }
    },
    {
      "cell_type": "code",
      "source": [
        "new_labels = {\n",
        "    0: 'Upper',\n",
        "    1: 'Lower',\n",
        "    2: 'Feet',\n",
        "    3: 'Bag'\n",
        "}"
      ],
      "metadata": {
        "id": "f8S_4AoFCcSb"
      },
      "execution_count": null,
      "outputs": []
    },
    {
      "cell_type": "markdown",
      "source": [
        "# Define label mapping"
      ],
      "metadata": {
        "id": "asOT3PLxLKLM"
      }
    },
    {
      "cell_type": "code",
      "source": [
        "label_mapping = {\n",
        "    0: [0, 1, 4, 6],\n",
        "    1: [2, 3],\n",
        "    2: [5, 7, 9],\n",
        "    3: [8]\n",
        "}"
      ],
      "metadata": {
        "id": "GQepptpaCiTE"
      },
      "execution_count": null,
      "outputs": []
    },
    {
      "cell_type": "markdown",
      "source": [
        "# Load the Fashion-MNIST dataset and apply new labels"
      ],
      "metadata": {
        "id": "RKtMhSEKLNqk"
      }
    },
    {
      "cell_type": "code",
      "source": [
        "fmnist_train = FashionMNIST(root=\"./data\", train=True, download=True, transform=ToTensor())\n",
        "fmnist_test = FashionMNIST(root=\"./data\", train=False, download=True, transform=ToTensor())\n",
        "\n",
        "new_train_data = []\n",
        "new_train_labels = []\n",
        "new_test_data = []\n",
        "new_test_labels = []"
      ],
      "metadata": {
        "id": "bqNGjoVbCmgK"
      },
      "execution_count": null,
      "outputs": []
    },
    {
      "cell_type": "markdown",
      "source": [
        "# Map the original labels to new labels"
      ],
      "metadata": {
        "id": "wWMAUxsxLS28"
      }
    },
    {
      "cell_type": "code",
      "source": [
        "for i, (data, label) in enumerate(fmnist_train):\n",
        "    for new_label, orig_labels in label_mapping.items():\n",
        "        if label in orig_labels:\n",
        "            new_train_data.append(data)\n",
        "            new_train_labels.append(new_label)\n",
        "            break"
      ],
      "metadata": {
        "id": "ECWekWbbCsl7"
      },
      "execution_count": null,
      "outputs": []
    },
    {
      "cell_type": "code",
      "source": [
        "for i, (data, label) in enumerate(fmnist_test):\n",
        "    for new_label, orig_labels in label_mapping.items():\n",
        "        if label in orig_labels:\n",
        "            new_test_data.append(data)\n",
        "            new_test_labels.append(new_label)\n",
        "            break"
      ],
      "metadata": {
        "id": "OFE55e1ZL0lY"
      },
      "execution_count": null,
      "outputs": []
    },
    {
      "cell_type": "markdown",
      "source": [
        "# Convert the data and labels to PyTorch tensors"
      ],
      "metadata": {
        "id": "bTAHgNvvLViM"
      }
    },
    {
      "cell_type": "code",
      "source": [
        "new_train_data = torch.stack(new_train_data, dim=0)\n",
        "new_train_labels = torch.tensor(new_train_labels)\n",
        "new_test_data = torch.stack(new_test_data, dim=0)\n",
        "new_test_labels = torch.tensor(new_test_labels)"
      ],
      "metadata": {
        "id": "kuWTwTXhCwHh"
      },
      "execution_count": null,
      "outputs": []
    },
    {
      "cell_type": "markdown",
      "source": [
        "# Create the custom dataset"
      ],
      "metadata": {
        "id": "9e9PxM43LYGb"
      }
    },
    {
      "cell_type": "code",
      "source": [
        "class CustomFashionMNIST(torch.utils.data.Dataset):\n",
        "    def __init__(self, data, labels):\n",
        "        super(CustomFashionMNIST, self).__init__()\n",
        "        self.data = data\n",
        "        self.labels = labels\n",
        "    \n",
        "    def __getitem__(self, index):\n",
        "        return self.data[index], self.labels[index]\n",
        "    \n",
        "    def __len__(self):\n",
        "        return len(self.data)\n",
        "\n",
        "train_dataset = CustomFashionMNIST(new_train_data, new_train_labels)\n",
        "test_dataset = CustomFashionMNIST(new_test_data, new_test_labels)\n",
        "\n"
      ],
      "metadata": {
        "id": "w7imtqKCCyji"
      },
      "execution_count": null,
      "outputs": []
    },
    {
      "cell_type": "markdown",
      "source": [
        "# Reconfigure the neural network"
      ],
      "metadata": {
        "id": "H8gPExCKLaWF"
      }
    },
    {
      "cell_type": "code",
      "source": [
        "class Net(torch.nn.Module):\n",
        "    def __init__(self):\n",
        "        super(Net, self).__init__()\n",
        "        self.conv1 = torch.nn.Conv2d(1, 10, kernel_size=5)\n",
        "        self.conv2 = torch.nn.Conv2d(10, 20, kernel_size=5)\n",
        "        self.fc1 = torch.nn.Linear(320, 50)\n",
        "        self.fc2 = torch.nn.Linear(50, 4) # 4 neurons for the 4 new labels\n",
        "    \n",
        "    def forward(self, x):\n",
        "        x = torch.nn.functional.relu(torch.nn.functional.max_pool2d(self.conv1(x), 2))\n",
        "        x = torch.nn.functional.relu(torch.nn.functional.max_pool2d(self.conv2(x), 2))\n",
        "        x = x.view(-1, 320)\n",
        "        x = torch.nn.functional.relu(self.fc1(x))\n",
        "        x = self.fc2(x)\n",
        "        return torch.nn.functional.log_softmax(x, dim=1)\n"
      ],
      "metadata": {
        "id": "nleMjsMBC1eh"
      },
      "execution_count": null,
      "outputs": []
    },
    {
      "cell_type": "code",
      "source": [
        "net = Net()\n"
      ],
      "metadata": {
        "id": "eOytJPV2GFrC"
      },
      "execution_count": null,
      "outputs": []
    },
    {
      "cell_type": "code",
      "source": [
        "criterion = torch.nn.CrossEntropyLoss()\n"
      ],
      "metadata": {
        "id": "3SZk_-QdGKxi"
      },
      "execution_count": null,
      "outputs": []
    },
    {
      "cell_type": "code",
      "source": [
        "optimizer = torch.optim.SGD(net.parameters(), lr=0.01, momentum=0.5)"
      ],
      "metadata": {
        "id": "GRLGskbKGMoC"
      },
      "execution_count": null,
      "outputs": []
    },
    {
      "cell_type": "markdown",
      "source": [
        "# Train the neural network"
      ],
      "metadata": {
        "id": "V2B6HKqvLeU8"
      }
    },
    {
      "cell_type": "code",
      "source": [
        "train_loader = torch.utils.data"
      ],
      "metadata": {
        "id": "iWhYkHkLC4X6"
      },
      "execution_count": null,
      "outputs": []
    }
  ]
}